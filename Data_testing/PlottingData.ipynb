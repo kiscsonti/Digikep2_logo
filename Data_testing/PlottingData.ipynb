{
 "cells": [
  {
   "cell_type": "code",
   "execution_count": 7,
   "metadata": {},
   "outputs": [],
   "source": [
    "import numpy as np\n",
    "import pandas as pd\n",
    "import json"
   ]
  },
  {
   "cell_type": "code",
   "execution_count": 21,
   "metadata": {},
   "outputs": [],
   "source": [
    "# data_path = \"/home/petigep/college/orak/digikep2/GOLD_TEST/great_cnn_pixels_76_res.csv\"\n",
    "data_path = \"/home/petigep/college/orak/digikep2/logo/eval_dataset/great_cnn_pixels_76_res_real_life_images.csv\""
   ]
  },
  {
   "cell_type": "code",
   "execution_count": 22,
   "metadata": {},
   "outputs": [],
   "source": [
    "df = pd.read_csv(data_path)"
   ]
  },
  {
   "cell_type": "code",
   "execution_count": 23,
   "metadata": {},
   "outputs": [],
   "source": [
    "prediction_label = list()\n",
    "\n",
    "for item in df[\"PREDICTION\"]:\n",
    "    item = item[1:-1]\n",
    "    float_list= [float(x) for x in item.split(\", \")]\n",
    "    prediction_label.append(np.argmax(float_list))\n",
    "\n",
    "h = \"\"\"{'0': 'adidas',\n",
    " '1': 'apple',\n",
    " '2': 'cocacola',\n",
    " '3': 'disney',\n",
    " '4': 'nike',\n",
    " '5': 'nologo',\n",
    " '6': 'puma'}\"\"\"\n",
    "\n",
    "json_acceptable_string = h.replace(\"'\", \"\\\"\")\n",
    "id2label = json.loads(json_acceptable_string)\n",
    "id2label = {int(k): v for k,v in id2label.items()}\n",
    "prediction_label_text = [id2label[x] for x in prediction_label]"
   ]
  },
  {
   "cell_type": "code",
   "execution_count": 24,
   "metadata": {},
   "outputs": [],
   "source": [
    "df[\"PREDICTION_LABEL_TEXT\"] = prediction_label_text\n",
    "df[\"PREDICTION_LABEL_ID\"] = prediction_label\n",
    "df.to_csv(\"/home/petigep/college/orak/digikep2/logo/eval_dataset/great_cnn_pixels_76_res_real_life_images_extended.csv\", index=False)"
   ]
  },
  {
   "cell_type": "code",
   "execution_count": 12,
   "metadata": {},
   "outputs": [],
   "source": [
    "# df[\"PREDICTION_LABEL_TEXT\"] = prediction_label_text\n",
    "# df[\"PREDICTION_LABEL_ID\"] = prediction_label\n",
    "# df.to_csv(\"/home/petigep/college/orak/digikep2/GOLD_TEST/great_cnn_pixels_76_res_extended.csv\", index=False)"
   ]
  },
  {
   "cell_type": "markdown",
   "metadata": {},
   "source": [
    "### Innen jön a data science"
   ]
  },
  {
   "cell_type": "code",
   "execution_count": 27,
   "metadata": {},
   "outputs": [],
   "source": [
    "# data_path2 = \"/home/petigep/college/orak/digikep2/GOLD_TEST/great_cnn_pixels_76_res_extended.csv\"\n",
    "# outfile = \"/home/petigep/college/orak/digikep2/GOLD_TEST/great_cnn_pixels_76_by_class.csv\"\n",
    "# df = pd.read_csv(data_path2)"
   ]
  },
  {
   "cell_type": "code",
   "execution_count": 25,
   "metadata": {},
   "outputs": [],
   "source": [
    "data_path2 = \"/home/petigep/college/orak/digikep2/logo/eval_dataset/great_cnn_pixels_76_res_real_life_images_extended.csv\"\n",
    "outfile = \"/home/petigep/college/orak/digikep2/logo/eval_dataset/great_cnn_pixels_76_res_real_life_images_by_class.csv\"\n",
    "df = pd.read_csv(data_path2)"
   ]
  },
  {
   "cell_type": "code",
   "execution_count": 26,
   "metadata": {},
   "outputs": [],
   "source": [
    "def accuracy_by_class(y, pred):\n",
    "    class_good = dict()\n",
    "    class_bad = dict()\n",
    "    \n",
    "    for a, b in zip(y, pred):\n",
    "        if a not in class_good:\n",
    "            class_good[a] = 0\n",
    "            \n",
    "        if a not in class_bad:\n",
    "            class_bad[a] = 0\n",
    "        if a == b:\n",
    "            class_good[a] += 1\n",
    "        else:\n",
    "            class_bad[a] += 1\n",
    "    \n",
    "    return class_good, class_bad\n",
    "    "
   ]
  },
  {
   "cell_type": "code",
   "execution_count": 27,
   "metadata": {},
   "outputs": [],
   "source": [
    "differency = dict()\n",
    "good, bad = accuracy_by_class(df[\"LABEL\"], df[\"PREDICTION_LABEL_TEXT\"])\n",
    "\n",
    "for key, value in good.items():\n",
    "    differency[key] = value / (value + bad[key])\n",
    "\n",
    "with open (outfile, \"w\") as out_f:\n",
    "    for key, value in differency.items():\n",
    "        out_f.write(\"{}, {}\\r\\n\".format(key, value))\n",
    "    \n",
    "# res = pd.DataFrame.from_dict(differency, orient='index')\n",
    "# res.to_csv(outfile, index=False)\n",
    "\n"
   ]
  },
  {
   "cell_type": "code",
   "execution_count": 28,
   "metadata": {},
   "outputs": [
    {
     "data": {
      "text/plain": [
       "{'adidas': 0.2,\n",
       " 'apple': 0.38571428571428573,\n",
       " 'cocacola': 0.9,\n",
       " 'disney': 0.2,\n",
       " 'nike': 0.02857142857142857,\n",
       " 'nologo': 0.0,\n",
       " 'puma': 0.04411764705882353}"
      ]
     },
     "execution_count": 28,
     "metadata": {},
     "output_type": "execute_result"
    }
   ],
   "source": [
    "differency"
   ]
  },
  {
   "cell_type": "code",
   "execution_count": 29,
   "metadata": {},
   "outputs": [
    {
     "data": {
      "text/html": [
       "<div>\n",
       "<style scoped>\n",
       "    .dataframe tbody tr th:only-of-type {\n",
       "        vertical-align: middle;\n",
       "    }\n",
       "\n",
       "    .dataframe tbody tr th {\n",
       "        vertical-align: top;\n",
       "    }\n",
       "\n",
       "    .dataframe thead th {\n",
       "        text-align: right;\n",
       "    }\n",
       "</style>\n",
       "<table border=\"1\" class=\"dataframe\">\n",
       "  <thead>\n",
       "    <tr style=\"text-align: right;\">\n",
       "      <th></th>\n",
       "      <th>LABELS</th>\n",
       "      <th>ACCURACY</th>\n",
       "    </tr>\n",
       "  </thead>\n",
       "  <tbody>\n",
       "    <tr>\n",
       "      <th>0</th>\n",
       "      <td>adidas</td>\n",
       "      <td>0.200000</td>\n",
       "    </tr>\n",
       "    <tr>\n",
       "      <th>1</th>\n",
       "      <td>apple</td>\n",
       "      <td>0.385714</td>\n",
       "    </tr>\n",
       "    <tr>\n",
       "      <th>2</th>\n",
       "      <td>cocacola</td>\n",
       "      <td>0.900000</td>\n",
       "    </tr>\n",
       "    <tr>\n",
       "      <th>3</th>\n",
       "      <td>disney</td>\n",
       "      <td>0.200000</td>\n",
       "    </tr>\n",
       "    <tr>\n",
       "      <th>4</th>\n",
       "      <td>nike</td>\n",
       "      <td>0.028571</td>\n",
       "    </tr>\n",
       "    <tr>\n",
       "      <th>5</th>\n",
       "      <td>nologo</td>\n",
       "      <td>0.000000</td>\n",
       "    </tr>\n",
       "    <tr>\n",
       "      <th>6</th>\n",
       "      <td>puma</td>\n",
       "      <td>0.044118</td>\n",
       "    </tr>\n",
       "  </tbody>\n",
       "</table>\n",
       "</div>"
      ],
      "text/plain": [
       "     LABELS  ACCURACY\n",
       "0    adidas  0.200000\n",
       "1     apple  0.385714\n",
       "2  cocacola  0.900000\n",
       "3    disney  0.200000\n",
       "4      nike  0.028571\n",
       "5    nologo  0.000000\n",
       "6      puma  0.044118"
      ]
     },
     "execution_count": 29,
     "metadata": {},
     "output_type": "execute_result"
    }
   ],
   "source": [
    "labels = list()\n",
    "accuracy = list()\n",
    "\n",
    "for key, value in differency.items():\n",
    "    labels.append(key)\n",
    "    accuracy.append(value)\n",
    "\n",
    "plotting_df = pd.DataFrame({\"LABELS\": labels, \"ACCURACY\": accuracy})\n",
    "plotting_df"
   ]
  },
  {
   "cell_type": "code",
   "execution_count": 31,
   "metadata": {},
   "outputs": [
    {
     "data": {
      "image/png": "[encoded data removed]",
      "text/plain": [
       "<Figure size 432x288 with 1 Axes>"
      ]
     },
     "metadata": {
      "needs_background": "light"
     },
     "output_type": "display_data"
    }
   ],
   "source": [
    "ax = plotting_df.plot.bar(x='LABELS', y='ACCURACY', rot=0)"
   ]
  },
  {
   "cell_type": "code",
   "execution_count": null,
   "metadata": {},
   "outputs": [],
   "source": []
  }
 ],
 "metadata": {
  "kernelspec": {
   "display_name": "dl36",
   "language": "python",
   "name": "dl36"
  },
  "language_info": {
   "codemirror_mode": {
    "name": "ipython",
    "version": 3
   },
   "file_extension": ".py",
   "mimetype": "text/x-python",
   "name": "python",
   "nbconvert_exporter": "python",
   "pygments_lexer": "ipython3",
   "version": "3.6.8"
  }
 },
 "nbformat": 4,
 "nbformat_minor": 2
}
