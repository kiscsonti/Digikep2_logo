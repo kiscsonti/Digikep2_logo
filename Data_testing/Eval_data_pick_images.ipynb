{
 "cells": [
  {
   "cell_type": "code",
   "execution_count": 23,
   "metadata": {},
   "outputs": [],
   "source": [
    "import os\n",
    "import pandas as pd\n",
    "import numpy as np\n",
    "import json\n",
    "import shutil\n",
    "\n",
    "import xml.etree.ElementTree as ET"
   ]
  },
  {
   "cell_type": "code",
   "execution_count": 20,
   "metadata": {},
   "outputs": [],
   "source": [
    "data_path = \"/home/petigep/college/orak/digikep2/logo/eval_dataset/Evaluation_dataset/Evaluation_Dataset/Annotations/\"\n",
    "class_with_images = dict()\n",
    "logos = \"adidas, apple, cocacola, disney, nike, nologo, puma\".split(\", \")\n",
    "\n",
    "for item in logos:\n",
    "    class_with_images[item] = list()\n",
    "    \n",
    "class_with_images[\"nologo\"] = list()\n",
    "\n",
    "for root, dirs, files in os.walk(data_path):\n",
    "    for name in files:\n",
    "        filepath_full = os.path.join(root, name)\n",
    "#         print(filepath_full)\n",
    "        tree = ET.parse(filepath_full)\n",
    "        tree_root = tree.getroot()\n",
    "        \n",
    "        for item in tree_root.findall(\"./object/name\"):\n",
    "            item_class = item.text\n",
    "            jpg_file = \"\"\n",
    "            \n",
    "            for item in tree_root.findall(\"./filename\"):\n",
    "                jpg_file = item.text\n",
    "            \n",
    "            if item_class in logos:\n",
    "                class_with_images[item_class].append(jpg_file)\n",
    "            else:\n",
    "                class_with_images[\"nologo\"].append(jpg_file)\n",
    "                "
   ]
  },
  {
   "cell_type": "code",
   "execution_count": 21,
   "metadata": {},
   "outputs": [
    {
     "name": "stdout",
     "output_type": "stream",
     "text": [
      "adidas :  120\n",
      "apple :  76\n",
      "cocacola :  130\n",
      "disney :  20\n",
      "nike :  99\n",
      "nologo :  7342\n",
      "puma :  96\n"
     ]
    }
   ],
   "source": [
    "for key, value in class_with_images.items():\n",
    "    print(key, \": \", len(value))"
   ]
  },
  {
   "cell_type": "code",
   "execution_count": 25,
   "metadata": {},
   "outputs": [],
   "source": [
    "directory = \"/home/petigep/college/orak/digikep2/logo/eval_dataset/sorted/\"\n",
    "from_loc = \"/home/petigep/college/orak/digikep2/logo/eval_dataset/Evaluation_dataset/Evaluation_Dataset/JPEGImages/\"\n",
    "\n",
    "for key, value in class_with_images.items():\n",
    "    \n",
    "    if not os.path.exists(os.path.join(directory, key)):\n",
    "        os.makedirs(os.path.join(directory, key))"
   ]
  },
  {
   "cell_type": "code",
   "execution_count": 26,
   "metadata": {},
   "outputs": [],
   "source": [
    "for key, value in class_with_images.items():\n",
    "    if key != \"nologo\":\n",
    "        for file in value:\n",
    "            cur_file_path = os.path.join(directory, key, file)\n",
    "            from_path = os.path.join(from_loc, file)\n",
    "            shutil.copy(from_path, cur_file_path)\n",
    "    else:\n",
    "        np.random.shuffle(value)\n",
    "        for file in value[:100]:\n",
    "            cur_file_path = os.path.join(directory, key, file)\n",
    "            from_path = os.path.join(from_loc, file)\n",
    "            shutil.copy(from_path, cur_file_path)"
   ]
  },
  {
   "cell_type": "markdown",
   "metadata": {},
   "source": [
    "\n",
    "## PART 2 - GETTING SQUARE IMAGES"
   ]
  },
  {
   "cell_type": "code",
   "execution_count": null,
   "metadata": {},
   "outputs": [],
   "source": []
  }
 ],
 "metadata": {
  "kernelspec": {
   "display_name": "dl36",
   "language": "python",
   "name": "dl36"
  },
  "language_info": {
   "codemirror_mode": {
    "name": "ipython",
    "version": 3
   },
   "file_extension": ".py",
   "mimetype": "text/x-python",
   "name": "python",
   "nbconvert_exporter": "python",
   "pygments_lexer": "ipython3",
   "version": "3.6.8"
  }
 },
 "nbformat": 4,
 "nbformat_minor": 2
}
